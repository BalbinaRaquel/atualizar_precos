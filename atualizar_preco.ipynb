{
 "cells": [
  {
   "cell_type": "markdown",
   "metadata": {},
   "source": [
    "## Objetivo\n",
    "\n",
    "A partir de uma planilha de produtos e serviços, é necessário atualizar o preço dos produtos considerando um novo imposto dos serviços. \n",
    "Com o aumento de imposto sobre os serviços, temos que atualizar o preço dos produtos impactados pela mudança.\n",
    "\n",
    "Novo Multiplicador Imposto: 1.5"
   ]
  },
  {
   "cell_type": "markdown",
   "metadata": {},
   "source": [
    "## Atualização dos Preços de produtos na planilha com Pandas"
   ]
  },
  {
   "cell_type": "markdown",
   "metadata": {},
   "source": [
    "### 1º - Importar Base de Dados"
   ]
  },
  {
   "cell_type": "code",
   "execution_count": 1,
   "metadata": {},
   "outputs": [
    {
     "data": {
      "text/html": [
       "<div>\n",
       "<style scoped>\n",
       "    .dataframe tbody tr th:only-of-type {\n",
       "        vertical-align: middle;\n",
       "    }\n",
       "\n",
       "    .dataframe tbody tr th {\n",
       "        vertical-align: top;\n",
       "    }\n",
       "\n",
       "    .dataframe thead th {\n",
       "        text-align: right;\n",
       "    }\n",
       "</style>\n",
       "<table border=\"1\" class=\"dataframe\">\n",
       "  <thead>\n",
       "    <tr style=\"text-align: right;\">\n",
       "      <th></th>\n",
       "      <th>Produtos</th>\n",
       "      <th>Preço Base Original</th>\n",
       "      <th>Tipo</th>\n",
       "      <th>Multiplicador Imposto</th>\n",
       "      <th>Preço Base Reais</th>\n",
       "    </tr>\n",
       "  </thead>\n",
       "  <tbody>\n",
       "    <tr>\n",
       "      <th>0</th>\n",
       "      <td>Tablet</td>\n",
       "      <td>999.99</td>\n",
       "      <td>Produto</td>\n",
       "      <td>1.1</td>\n",
       "      <td>1099.989</td>\n",
       "    </tr>\n",
       "    <tr>\n",
       "      <th>1</th>\n",
       "      <td>Pós Graduação</td>\n",
       "      <td>4500.00</td>\n",
       "      <td>Serviço</td>\n",
       "      <td>1.3</td>\n",
       "      <td>5850.000</td>\n",
       "    </tr>\n",
       "    <tr>\n",
       "      <th>2</th>\n",
       "      <td>Celular</td>\n",
       "      <td>899.99</td>\n",
       "      <td>Produto</td>\n",
       "      <td>1.1</td>\n",
       "      <td>989.989</td>\n",
       "    </tr>\n",
       "    <tr>\n",
       "      <th>3</th>\n",
       "      <td>Passagem Aérea</td>\n",
       "      <td>799.00</td>\n",
       "      <td>Serviço</td>\n",
       "      <td>1.3</td>\n",
       "      <td>1038.700</td>\n",
       "    </tr>\n",
       "    <tr>\n",
       "      <th>4</th>\n",
       "      <td>Computador</td>\n",
       "      <td>3000.00</td>\n",
       "      <td>Produto</td>\n",
       "      <td>1.1</td>\n",
       "      <td>3300.000</td>\n",
       "    </tr>\n",
       "    <tr>\n",
       "      <th>5</th>\n",
       "      <td>SPA</td>\n",
       "      <td>480.48</td>\n",
       "      <td>Serviço</td>\n",
       "      <td>1.3</td>\n",
       "      <td>624.624</td>\n",
       "    </tr>\n",
       "    <tr>\n",
       "      <th>6</th>\n",
       "      <td>Corte Cabelo</td>\n",
       "      <td>50.00</td>\n",
       "      <td>Serviço</td>\n",
       "      <td>1.3</td>\n",
       "      <td>65.000</td>\n",
       "    </tr>\n",
       "  </tbody>\n",
       "</table>\n",
       "</div>"
      ],
      "text/plain": [
       "         Produtos  Preço Base Original     Tipo  Multiplicador Imposto  \\\n",
       "0          Tablet               999.99  Produto                    1.1   \n",
       "1   Pós Graduação              4500.00  Serviço                    1.3   \n",
       "2         Celular               899.99  Produto                    1.1   \n",
       "3  Passagem Aérea               799.00  Serviço                    1.3   \n",
       "4      Computador              3000.00  Produto                    1.1   \n",
       "5             SPA               480.48  Serviço                    1.3   \n",
       "6    Corte Cabelo                50.00  Serviço                    1.3   \n",
       "\n",
       "   Preço Base Reais  \n",
       "0          1099.989  \n",
       "1          5850.000  \n",
       "2           989.989  \n",
       "3          1038.700  \n",
       "4          3300.000  \n",
       "5           624.624  \n",
       "6            65.000  "
      ]
     },
     "metadata": {},
     "output_type": "display_data"
    }
   ],
   "source": [
    "# Importando Base de dados\n",
    "\n",
    "import pandas as pd\n",
    "\n",
    "tabela = pd.read_excel('Produtos.xlsx')\n",
    "\n",
    "display(tabela)"
   ]
  },
  {
   "cell_type": "markdown",
   "metadata": {},
   "source": [
    "### 2º - Atualizar multiplicador de Imposto"
   ]
  },
  {
   "cell_type": "code",
   "execution_count": 2,
   "metadata": {},
   "outputs": [],
   "source": [
    "tabela.loc[tabela['Tipo'] == \"Serviço\", 'Multiplicador Imposto'] = 1.5"
   ]
  },
  {
   "cell_type": "markdown",
   "metadata": {},
   "source": [
    "### 3º - Atualizar (calcular) Preço Base Reais"
   ]
  },
  {
   "cell_type": "code",
   "execution_count": 6,
   "metadata": {},
   "outputs": [
    {
     "name": "stdout",
     "output_type": "stream",
     "text": [
      "Tabela de Preços atualizada!\n"
     ]
    }
   ],
   "source": [
    "tabela['Preço Base Reais'] = tabela['Multiplicador Imposto'] * tabela['Preço Base Original']\n",
    "\n",
    "tabela.to_excel('Produtos_atualizado.xlsx', index=False)\n",
    "\n",
    "print('Tabela de Preços atualizada!')\n"
   ]
  },
  {
   "cell_type": "code",
   "execution_count": 7,
   "metadata": {},
   "outputs": [
    {
     "data": {
      "text/html": [
       "<div>\n",
       "<style scoped>\n",
       "    .dataframe tbody tr th:only-of-type {\n",
       "        vertical-align: middle;\n",
       "    }\n",
       "\n",
       "    .dataframe tbody tr th {\n",
       "        vertical-align: top;\n",
       "    }\n",
       "\n",
       "    .dataframe thead th {\n",
       "        text-align: right;\n",
       "    }\n",
       "</style>\n",
       "<table border=\"1\" class=\"dataframe\">\n",
       "  <thead>\n",
       "    <tr style=\"text-align: right;\">\n",
       "      <th></th>\n",
       "      <th>Produtos</th>\n",
       "      <th>Preço Base Original</th>\n",
       "      <th>Tipo</th>\n",
       "      <th>Multiplicador Imposto</th>\n",
       "      <th>Preço Base Reais</th>\n",
       "    </tr>\n",
       "  </thead>\n",
       "  <tbody>\n",
       "    <tr>\n",
       "      <th>0</th>\n",
       "      <td>Tablet</td>\n",
       "      <td>999.99</td>\n",
       "      <td>Produto</td>\n",
       "      <td>1.1</td>\n",
       "      <td>1099.989</td>\n",
       "    </tr>\n",
       "    <tr>\n",
       "      <th>1</th>\n",
       "      <td>Pós Graduação</td>\n",
       "      <td>4500.00</td>\n",
       "      <td>Serviço</td>\n",
       "      <td>1.5</td>\n",
       "      <td>6750.000</td>\n",
       "    </tr>\n",
       "    <tr>\n",
       "      <th>2</th>\n",
       "      <td>Celular</td>\n",
       "      <td>899.99</td>\n",
       "      <td>Produto</td>\n",
       "      <td>1.1</td>\n",
       "      <td>989.989</td>\n",
       "    </tr>\n",
       "    <tr>\n",
       "      <th>3</th>\n",
       "      <td>Passagem Aérea</td>\n",
       "      <td>799.00</td>\n",
       "      <td>Serviço</td>\n",
       "      <td>1.5</td>\n",
       "      <td>1198.500</td>\n",
       "    </tr>\n",
       "    <tr>\n",
       "      <th>4</th>\n",
       "      <td>Computador</td>\n",
       "      <td>3000.00</td>\n",
       "      <td>Produto</td>\n",
       "      <td>1.1</td>\n",
       "      <td>3300.000</td>\n",
       "    </tr>\n",
       "    <tr>\n",
       "      <th>5</th>\n",
       "      <td>SPA</td>\n",
       "      <td>480.48</td>\n",
       "      <td>Serviço</td>\n",
       "      <td>1.5</td>\n",
       "      <td>720.720</td>\n",
       "    </tr>\n",
       "    <tr>\n",
       "      <th>6</th>\n",
       "      <td>Corte Cabelo</td>\n",
       "      <td>50.00</td>\n",
       "      <td>Serviço</td>\n",
       "      <td>1.5</td>\n",
       "      <td>75.000</td>\n",
       "    </tr>\n",
       "  </tbody>\n",
       "</table>\n",
       "</div>"
      ],
      "text/plain": [
       "         Produtos  Preço Base Original     Tipo  Multiplicador Imposto  \\\n",
       "0          Tablet               999.99  Produto                    1.1   \n",
       "1   Pós Graduação              4500.00  Serviço                    1.5   \n",
       "2         Celular               899.99  Produto                    1.1   \n",
       "3  Passagem Aérea               799.00  Serviço                    1.5   \n",
       "4      Computador              3000.00  Produto                    1.1   \n",
       "5             SPA               480.48  Serviço                    1.5   \n",
       "6    Corte Cabelo                50.00  Serviço                    1.5   \n",
       "\n",
       "   Preço Base Reais  \n",
       "0          1099.989  \n",
       "1          6750.000  \n",
       "2           989.989  \n",
       "3          1198.500  \n",
       "4          3300.000  \n",
       "5           720.720  \n",
       "6            75.000  "
      ]
     },
     "metadata": {},
     "output_type": "display_data"
    }
   ],
   "source": [
    "tabela_atualizada = pd.read_excel('Produtos_atualizado.xlsx')\n",
    "\n",
    "\n",
    "display(tabela_atualizada)"
   ]
  },
  {
   "cell_type": "markdown",
   "metadata": {},
   "source": [
    "## Atualização dos Preços de produtos na planilha com Openpyxl"
   ]
  },
  {
   "cell_type": "code",
   "execution_count": null,
   "metadata": {},
   "outputs": [],
   "source": []
  }
 ],
 "metadata": {
  "kernelspec": {
   "display_name": "base",
   "language": "python",
   "name": "python3"
  },
  "language_info": {
   "codemirror_mode": {
    "name": "ipython",
    "version": 3
   },
   "file_extension": ".py",
   "mimetype": "text/x-python",
   "name": "python",
   "nbconvert_exporter": "python",
   "pygments_lexer": "ipython3",
   "version": "3.11.7"
  }
 },
 "nbformat": 4,
 "nbformat_minor": 2
}
